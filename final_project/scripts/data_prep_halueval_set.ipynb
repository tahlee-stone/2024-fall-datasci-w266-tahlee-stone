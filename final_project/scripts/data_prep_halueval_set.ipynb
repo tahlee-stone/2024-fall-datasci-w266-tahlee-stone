{
 "cells": [
  {
   "cell_type": "markdown",
   "id": "fe2f02b8",
   "metadata": {},
   "source": [
    "# Groundedness Dataset Preparation using Benchmark HaluEval Dataset\n",
    "\n",
    "This notebook generates a groundedness dataset from QA-style JSONL input files obtained from:\n",
    " \n",
    "- https://github.com/RUCAIBox/HaluEval/blob/main/README.md\n",
    "- https://github.com/RUCAIBox/HaluEval/blob/main/data/qa_data.json"
   ]
  },
  {
   "cell_type": "code",
   "execution_count": 3,
   "id": "4c0419b8",
   "metadata": {},
   "outputs": [],
   "source": [
    "# Import Required Libraries\n",
    "#!pip install openai requests pandas\n",
    "import pandas as pd\n",
    "import json\n",
    "import argparse\n",
    "import os\n",
    "from pathlib import Path"
   ]
  },
  {
   "cell_type": "code",
   "execution_count": 10,
   "id": "6b9b8862",
   "metadata": {},
   "outputs": [],
   "source": [
    "# Configuration\n",
    "JSONL_PATH = \"../data/qa_data.json\"\n",
    "OUTPUT_PATH = \"../data/halueval_groundedness.csv\"\n",
    "SAMPLE_SIZE = 500  # Number of queries to sample\n",
    "SEED = 42  # Random seed for reproducibility\n"
   ]
  },
  {
   "cell_type": "markdown",
   "id": "e565c102",
   "metadata": {},
   "source": [
    "### Sampling Customer Queries"
   ]
  },
  {
   "cell_type": "code",
   "execution_count": 11,
   "id": "e8f4bae8",
   "metadata": {},
   "outputs": [],
   "source": [
    "# Main Function Definition for Data Processing\n",
    "def generate_groundedness_dataset(jsonl_path, output_path, sample_size, seed=42):\n",
    "    \"\"\"\n",
    "    Load a QA-style JSONL file, sample N examples, and expand each into\n",
    "    one grounded and one hallucinated row. Save the result as a CSV file.\n",
    "\n",
    "    Each question contributes two rows:\n",
    "        - Grounded answer: label = \"PASS\"\n",
    "        - Hallucinated answer: label = \"FAIL\"\n",
    "    \"\"\"\n",
    "    # Load JSONL data\n",
    "    with open(jsonl_path, \"r\", encoding=\"utf-8\") as f:\n",
    "        data = [json.loads(line.strip()) for line in f]\n",
    "    \n",
    "    # Convert to DataFrame and Sample\n",
    "    df = pd.DataFrame(data)\n",
    "    sampled = df.sample(n=sample_size, random_state=seed).reset_index(drop=True)\n",
    "    \n",
    "    # Generate rows for groundedness dataset\n",
    "    rows = []\n",
    "    for _, row in sampled.iterrows():\n",
    "        rows.append({\n",
    "            \"query\": row[\"question\"],\n",
    "            \"context\": row[\"knowledge\"],\n",
    "            \"response\": row[\"right_answer\"],\n",
    "            \"label\": \"PASS\"\n",
    "        })\n",
    "        rows.append({\n",
    "            \"query\": row[\"question\"],\n",
    "            \"context\": row[\"knowledge\"],\n",
    "            \"response\": row[\"hallucinated_answer\"],\n",
    "            \"label\": \"FAIL\"\n",
    "        })\n",
    "\n",
    "    os.makedirs(os.path.dirname(output_path), exist_ok=True)\n",
    "    pd.DataFrame(rows).to_csv(output_path, index=False)\n",
    "    print(f\"✅ Saved {len(rows)} rows to '{output_path}'\")"
   ]
  },
  {
   "cell_type": "code",
   "execution_count": 12,
   "id": "ea5f4b7b",
   "metadata": {},
   "outputs": [
    {
     "name": "stdout",
     "output_type": "stream",
     "text": [
      "✅ Saved 1000 rows to '../data/halueval_groundedness.csv'\n"
     ]
    }
   ],
   "source": [
    "# Generate the Groundedness Dataset\n",
    "result_df = generate_groundedness_dataset(\n",
    "    jsonl_path=JSONL_PATH,\n",
    "    output_path=OUTPUT_PATH,\n",
    "    sample_size=SAMPLE_SIZE,\n",
    "    seed=SEED)\n"
   ]
  },
  {
   "cell_type": "code",
   "execution_count": null,
   "id": "6cffd483",
   "metadata": {},
   "outputs": [],
   "source": [
    "#"
   ]
  }
 ],
 "metadata": {
  "kernelspec": {
   "display_name": "Python 3",
   "language": "python",
   "name": "python3"
  },
  "language_info": {
   "codemirror_mode": {
    "name": "ipython",
    "version": 3
   },
   "file_extension": ".py",
   "mimetype": "text/x-python",
   "name": "python",
   "nbconvert_exporter": "python",
   "pygments_lexer": "ipython3",
   "version": "3.13.4"
  }
 },
 "nbformat": 4,
 "nbformat_minor": 5
}
